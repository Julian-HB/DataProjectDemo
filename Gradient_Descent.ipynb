{
 "cells": [
  {
   "cell_type": "code",
   "execution_count": 106,
   "id": "b739591a-7d0c-4ef2-85c3-395a697e7f35",
   "metadata": {
    "tags": []
   },
   "outputs": [
    {
     "name": "stdout",
     "output_type": "stream",
     "text": [
      "Für Iternation  100  ergibt a:  2.401091627173865 - Steigung der Tangente:  -0.5872934999596926\n",
      "Für Iternation  100  ergibt b:  0.3537968545087812 - Steigung der Tangente:  0.11859864607802884\n",
      "------------------------------------\n",
      "Für Iternation  1000  ergibt a:  2.361029658649536 - Steigung der Tangente:  -0.05193986677888729\n",
      "Für Iternation  1000  ergibt b:  0.5521813596265543 - Steigung der Tangente:  0.010488789468701576\n",
      "------------------------------------\n",
      "Für Iternation  2000  ergibt a:  2.357405399044101 - Steigung der Tangente:  -0.0035083837831857423\n",
      "Für Iternation  2000  ergibt b:  0.5701284794193803 - Steigung der Tangente:  0.0007084865857152067\n",
      "------------------------------------\n",
      "Für Iternation  3000  ergibt a:  2.3571605910687574 - Steigung der Tangente:  -0.00023698090760460033\n",
      "Für Iternation  3000  ergibt b:  0.5713407540735309 - Steigung der Tangente:  4.7856165244830606e-05\n",
      "------------------------------------\n",
      "Das ausgewertete Modell: f(x) =  2.357 * x +  0.571\n"
     ]
    }
   ],
   "source": [
    "# Importierung der Numpy-Bibliothek\n",
    "import numpy as np\n",
    "\n",
    "def gradient_descent(l_rate, x, y):\n",
    "    \"\"\"\n",
    "    Berechnet die Parameter zu der Linearenfunktion mit dem Gradientenverfahren.\n",
    "\n",
    "    Parameter:\n",
    "    - a: Steidung der Funktion\n",
    "    - b: Y-Achsenabschnitt der Funktion\n",
    "    - x: Eingabevariablen x-Werte\n",
    "    - y: Eingabevariable y-Werte\n",
    "\n",
    "    Returns:\n",
    "    - exp_arr: Ausgabe der exponentiellen Funktion\n",
    "    \"\"\"\n",
    "    a = 1\n",
    "    b = 0\n",
    "    for i in range(3001):\n",
    "        # Array mit den Ergebnissen der Kostenfunktion(nicht-quadriert)\n",
    "        cost = y - a*x - b\n",
    "\n",
    "        # Berechnung der Tangenten-Steigung der Ableitungen nach dem Parameter b zur Kostenfunktion \n",
    "        intercep_dev = -2 * cost\n",
    "        tangent_intercep_dev = np.sum(intercep_dev)\n",
    "\n",
    "        # Berechnung der Tangenten-Steigung der Ableitungen nach dem Parameter a zur Kostenfunktion \n",
    "        slope_dev = -2 * x * cost\n",
    "        tangent_slope_dev = np.sum(slope_dev)\n",
    "\n",
    "        # Berechnung der Schrittweite\n",
    "        stepsize_b = tangent_intercep_dev * l_rate\n",
    "        stepsize_a = tangent_slope_dev * l_rate\n",
    "\n",
    "        # Berechnung der neunen Steigung (a) und des neuen Y-Achsenabschnitts (b).\n",
    "        b -= stepsize_b\n",
    "        a -= stepsize_a\n",
    "        # Ausgabe der Iterartionsstuffen.\n",
    "        if i in {100, 1000, 2000, 3000}:\n",
    "            print('Für Iternation ', i,' ergibt a: ', a, '- Steigung der Tangente: ', tangent_intercep_dev)\n",
    "            print('Für Iternation ', i,' ergibt b: ', b, '- Steigung der Tangente: ', tangent_slope_dev)\n",
    "            print('------------------------------------')\n",
    "\n",
    "    print('Das ausgewertete Modell: f(x) = ', np.round(a, 3), '* x + ', np.round(b, 3))\n",
    "    \n",
    "    \n",
    "# Zahlenreihen zum testen des Gradientenverfahrens\n",
    "x = np.array([1, 2, 3, 4, 5, 6, 7])\n",
    "y = np.array([3, 5, 8, 10, 12, 15, 17])\n",
    "\n",
    "# Bestimmung der Lernrate\n",
    "l_rate = 0.001\n",
    "\n",
    "# Aufruf der Funktion zur Bestimmung der Parameter einer Linearen Funktion mittels des Gradientenverfahrens.\n",
    "gradient_descent(l_rate, x, y)\n",
    "\n",
    "'''\n",
    "Ausgabe der Funktion gradient_descent():\n",
    "\n",
    ">>>Für Iternation  100  ergibt a:  2.401091627173865 - Steigung der Tangente:  -0.5872934999596926\n",
    ">>>Für Iternation  100  ergibt b:  0.3537968545087812 - Steigung der Tangente:  0.11859864607802884\n",
    "------------------------------------\n",
    ">>>Für Iternation  1000  ergibt a:  2.361029658649536 - Steigung der Tangente:  -0.05193986677888729\n",
    ">>>Für Iternation  1000  ergibt b:  0.5521813596265543 - Steigung der Tangente:  0.010488789468701576\n",
    "------------------------------------\n",
    ">>>Für Iternation  2000  ergibt a:  2.357405399044101 - Steigung der Tangente:  -0.0035083837831857423\n",
    ">>>Für Iternation  2000  ergibt b:  0.5701284794193803 - Steigung der Tangente:  0.0007084865857152067\n",
    "------------------------------------\n",
    ">>>Für Iternation  3000  ergibt a:  2.3571605910687574 - Steigung der Tangente:  -0.00023698090760460033\n",
    ">>>Für Iternation  3000  ergibt b:  0.5713407540735309 - Steigung der Tangente:  4.7856165244830606e-05\n",
    "------------------------------------\n",
    ">>>Das ausgewertete Modell: f(x) =  2.357 * x +  0.571\n",
    "'''\n",
    "\n"
   ]
  },
  {
   "cell_type": "code",
   "execution_count": null,
   "id": "8434a96c-939b-41b1-88b1-d1bd145e618c",
   "metadata": {},
   "outputs": [],
   "source": []
  }
 ],
 "metadata": {
  "kernelspec": {
   "display_name": "Python 3 (ipykernel)",
   "language": "python",
   "name": "python3"
  },
  "language_info": {
   "codemirror_mode": {
    "name": "ipython",
    "version": 3
   },
   "file_extension": ".py",
   "mimetype": "text/x-python",
   "name": "python",
   "nbconvert_exporter": "python",
   "pygments_lexer": "ipython3",
   "version": "3.10.9"
  }
 },
 "nbformat": 4,
 "nbformat_minor": 5
}
